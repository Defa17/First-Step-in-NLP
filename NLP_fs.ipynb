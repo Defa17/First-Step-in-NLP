{
  "nbformat": 4,
  "nbformat_minor": 0,
  "metadata": {
    "colab": {
      "provenance": []
    },
    "kernelspec": {
      "name": "python3",
      "display_name": "Python 3"
    },
    "language_info": {
      "name": "python"
    }
  },
  "cells": [
    {
      "cell_type": "markdown",
      "source": [
        "# Baseline-решение\n",
        "\n",
        "По мотивам ноутбука https://www.kaggle.com/code/hardtype/parsing-news-from-rbc-lenta-ru"
      ],
      "metadata": {
        "id": "kKEZZbm28bhh"
      }
    },
    {
      "cell_type": "markdown",
      "source": [
        "## 1. Парсим новости с сайта Lenta.ru"
      ],
      "metadata": {
        "id": "qqxLARXQ8eQf"
      }
    },
    {
      "cell_type": "code",
      "source": [
        "# Установка библиотек\n",
        "!pip install bs4\n",
        "!pip install openpyxl"
      ],
      "metadata": {
        "colab": {
          "base_uri": "https://localhost:8080/"
        },
        "id": "8vyPAH_VqD0y",
        "outputId": "9007238a-0f86-4bc9-92f7-1f49ddb9433c"
      },
      "execution_count": null,
      "outputs": [
        {
          "output_type": "stream",
          "name": "stdout",
          "text": [
            "Requirement already satisfied: bs4 in /usr/local/lib/python3.10/dist-packages (0.0.1)\n",
            "Requirement already satisfied: beautifulsoup4 in /usr/local/lib/python3.10/dist-packages (from bs4) (4.11.2)\n",
            "Requirement already satisfied: soupsieve>1.2 in /usr/local/lib/python3.10/dist-packages (from beautifulsoup4->bs4) (2.5)\n",
            "Requirement already satisfied: openpyxl in /usr/local/lib/python3.10/dist-packages (3.1.2)\n",
            "Requirement already satisfied: et-xmlfile in /usr/local/lib/python3.10/dist-packages (from openpyxl) (1.1.0)\n"
          ]
        }
      ]
    },
    {
      "cell_type": "code",
      "source": [
        "# Импорт библиотек\n",
        "import requests as rq\n",
        "from bs4 import BeautifulSoup as bs\n",
        "import pandas as pd\n",
        "import numpy as np\n",
        "from datetime import datetime, timedelta\n",
        "# from IPython import display"
      ],
      "metadata": {
        "id": "l2Ymzn3_qE9q"
      },
      "execution_count": null,
      "outputs": []
    },
    {
      "cell_type": "code",
      "source": [
        "class lentaRu_parser:\n",
        "    def __init__(self):\n",
        "        pass\n",
        "\n",
        "    def _get_url(self, param_dict: dict) -> str:\n",
        "        \"\"\"\n",
        "        Возвращает URL для запроса json таблицы со статьями\n",
        "\n",
        "        url = 'https://lenta.ru/search/v2/process?'\\\n",
        "        + 'from=0&'\\                       # Смещение\n",
        "        + 'size=1000&'\\                    # Кол-во статей\n",
        "        + 'sort=2&'\\                       # Сортировка по дате (2), по релевантности (1)\n",
        "        + 'title_only=0&'\\                 # Точная фраза в заголовке\n",
        "        + 'domain=1&'\\                     # ??\n",
        "        + 'modified%2Cformat=yyyy-MM-dd&'\\ # Формат даты\n",
        "        + 'type=1&'\\                       # Материалы. Все материалы (0). Новость (1)\n",
        "        + 'bloc=4&'\\                       # Рубрика. Экономика (4). Все рубрики (0)\n",
        "        + 'modified%2Cfrom=2020-01-01&'\\\n",
        "        + 'modified%2Cto=2020-11-01&'\\\n",
        "        + 'query='                         # Поисковой запрос\n",
        "        \"\"\"\n",
        "        hasType = int(param_dict['type']) != 0\n",
        "        hasBloc = int(param_dict['bloc']) != 0\n",
        "\n",
        "        url = 'https://lenta.ru/search/v2/process?'\\\n",
        "        + 'from={}&'.format(param_dict['from'])\\\n",
        "        + 'size={}&'.format(param_dict['size'])\\\n",
        "        + 'sort={}&'.format(param_dict['sort'])\\\n",
        "        + 'title_only={}&'.format(param_dict['title_only'])\\\n",
        "        + 'domain={}&'.format(param_dict['domain'])\\\n",
        "        + 'modified%2Cformat=yyyy-MM-dd&'\\\n",
        "        + 'type={}&'.format(param_dict['type']) * hasType\\\n",
        "        + 'bloc={}&'.format(param_dict['bloc']) * hasBloc\\\n",
        "        + 'modified%2Cfrom={}&'.format(param_dict['dateFrom'])\\\n",
        "        + 'modified%2Cto={}&'.format(param_dict['dateTo'])\\\n",
        "        + 'query={}'.format(param_dict['query'])\n",
        "\n",
        "        return url\n",
        "\n",
        "\n",
        "    def _get_search_table(self, param_dict: dict) -> pd.DataFrame:\n",
        "        \"\"\"\n",
        "        Возвращает pd.DataFrame со списком статей\n",
        "        \"\"\"\n",
        "        url = self._get_url(param_dict)\n",
        "        r = rq.get(url)\n",
        "        search_table = pd.DataFrame(r.json()['matches'])\n",
        "\n",
        "        return search_table\n",
        "\n",
        "\n",
        "    def get_articles(self,\n",
        "                     param_dict,\n",
        "                     time_step = 37,\n",
        "                     save_every = 5,\n",
        "                     save_excel = True) -> pd.DataFrame:\n",
        "        \"\"\"\n",
        "        Функция для скачивания статей интервалами через каждые time_step дней\n",
        "        Делает сохранение таблицы через каждые save_every * time_step дней\n",
        "\n",
        "        param_dict: dict\n",
        "        ### Параметры запроса\n",
        "        ###### project - раздел поиска, например, rbcnews\n",
        "        ###### category - категория поиска, например, TopRbcRu_economics\n",
        "        ###### dateFrom - с даты\n",
        "        ###### dateTo - по дату\n",
        "        ###### offset - смещение поисковой выдачи\n",
        "        ###### limit - лимит статей, максимум 100\n",
        "        ###### query - поисковой запрос (ключевое слово), например, РБК\n",
        "\n",
        "        \"\"\"\n",
        "        param_copy = param_dict.copy()\n",
        "        time_step = timedelta(days=time_step)\n",
        "        dateFrom = datetime.strptime(param_copy['dateFrom'], '%Y-%m-%d')\n",
        "        dateTo = datetime.strptime(param_copy['dateTo'], '%Y-%m-%d')\n",
        "        if dateFrom > dateTo:\n",
        "            raise ValueError('dateFrom should be less than dateTo')\n",
        "\n",
        "        out = pd.DataFrame()\n",
        "        save_counter = 0\n",
        "\n",
        "        while dateFrom <= dateTo:\n",
        "            param_copy['dateTo'] = (dateFrom + time_step).strftime('%Y-%m-%d')\n",
        "            if dateFrom + time_step > dateTo:\n",
        "                param_copy['dateTo'] = dateTo.strftime('%Y-%m-%d')\n",
        "            print('Parsing articles from '\\\n",
        "                  + param_copy['dateFrom'] +  ' to ' + param_copy['dateTo'])\n",
        "            out = out.append(self._get_search_table(param_copy), ignore_index=True)\n",
        "            dateFrom += time_step + timedelta(days=1)\n",
        "            param_copy['dateFrom'] = dateFrom.strftime('%Y-%m-%d')\n",
        "            save_counter += 1\n",
        "            if save_counter == save_every:\n",
        "                display.clear_output(wait=True)\n",
        "                out.to_excel(\"/tmp/checkpoint_table.xlsx\")\n",
        "                print('Checkpoint saved!')\n",
        "                save_counter = 0\n",
        "\n",
        "        if save_excel:\n",
        "            out.to_excel(\"lenta_{}_{}.xlsx\".format(\n",
        "                param_dict['dateFrom'],\n",
        "                param_dict['dateTo']))\n",
        "        print('Finish')\n",
        "\n",
        "        return out"
      ],
      "metadata": {
        "id": "dkQr15ZHqzgF"
      },
      "execution_count": null,
      "outputs": []
    },
    {
      "cell_type": "code",
      "source": [
        "# Задаем тут параметры\n",
        "query = ''\n",
        "offset = 0\n",
        "size = 1000\n",
        "sort = \"3\"\n",
        "title_only = \"0\"\n",
        "domain = \"1\"\n",
        "material = \"0\"\n",
        "bloc = \"0\" # topic = тематика новости\n",
        "dateFrom = '2023-01-01'\n",
        "dateTo = \"2023-12-30\"\n",
        "\n",
        "param_dict = {'query'     : query,\n",
        "              'from'      : str(offset),\n",
        "              'size'      : str(size),\n",
        "              'dateFrom'  : dateFrom,\n",
        "              'dateTo'    : dateTo,\n",
        "              'sort'      : sort,\n",
        "              'title_only': title_only,\n",
        "              'type'      : material,\n",
        "              'bloc'      : bloc,\n",
        "              'domain'    : domain}\n",
        "\n",
        "print(\"param_dict:\", param_dict)"
      ],
      "metadata": {
        "colab": {
          "base_uri": "https://localhost:8080/"
        },
        "id": "3XS3oCuxqoby",
        "outputId": "6f72aebe-a35e-4140-8eb4-dc943723d356"
      },
      "execution_count": null,
      "outputs": [
        {
          "output_type": "stream",
          "name": "stdout",
          "text": [
            "param_dict: {'query': '', 'from': '0', 'size': '1000', 'dateFrom': '2023-01-01', 'dateTo': '2023-12-30', 'sort': '3', 'title_only': '0', 'type': '0', 'bloc': '0', 'domain': '1'}\n"
          ]
        }
      ]
    },
    {
      "cell_type": "code",
      "source": [
        "# Тоже будем собирать итеративно, правда можно ставить time_step побольше, т.к.\n",
        "# больше лимит на запрос статей. И Работает быстрее :)\n",
        "\n",
        "parser = lentaRu_parser()\n",
        "\n",
        "tbl = parser.get_articles(param_dict=param_dict,\n",
        "                         time_step = 37,\n",
        "                         save_every = 5,\n",
        "                         save_excel = True)\n",
        "print(len(tbl.index))\n",
        "tbl.head()"
      ],
      "metadata": {
        "colab": {
          "base_uri": "https://localhost:8080/",
          "height": 598
        },
        "id": "U5m9rdzKqyC3",
        "outputId": "914b5f8b-fe0c-47c9-832e-865ebff9e971"
      },
      "execution_count": null,
      "outputs": [
        {
          "output_type": "stream",
          "name": "stdout",
          "text": [
            "Checkpoint saved!\n",
            "Finish\n",
            "10000\n"
          ]
        },
        {
          "output_type": "execute_result",
          "data": {
            "text/plain": [
              "     docid                                          url  \\\n",
              "0  1363803  https://lenta.ru/news/2023/01/01/exponenta/   \n",
              "1  1363805  https://lenta.ru/news/2023/01/01/yaroslavl/   \n",
              "2  1363807       https://lenta.ru/news/2023/01/01/alco/   \n",
              "3  1363808  https://lenta.ru/news/2023/01/01/ded_moroz/   \n",
              "4  1363806  https://lenta.ru/news/2023/01/01/anomalia_/   \n",
              "\n",
              "                                               title    modified  lastmodtime  \\\n",
              "0  Ким Чен Ын пообещал нарастить производство яде...  1672531825   1672531825   \n",
              "1                 В российском городе пропал ребенок  1672532081   1672532081   \n",
              "2     Россиянам рассказали о влиянии алкоголя на сон  1672533004   1672533004   \n",
              "3                      Подсчитана пенсия Деда Мороза  1672533251   1672533252   \n",
              "4  Климатолог предупредил о возможных погодных ан...  1672533531   1672533531   \n",
              "\n",
              "   type  domain  status  part  bloc   tags  \\\n",
              "0     1       1       0     0     2    [1]   \n",
              "1     1       1       0     0     1    [4]   \n",
              "2     1       1       0     0     1    [2]   \n",
              "3     1       1       0     1     1    [2]   \n",
              "4     1       1       0     0    12  [281]   \n",
              "\n",
              "                                           image_url     pubdate  \\\n",
              "0  https://icdn.lenta.ru/images/2023/01/01/03/202...  1672531825   \n",
              "1  https://icdn.lenta.ru/images/2023/01/01/03/202...  1672532081   \n",
              "2  https://icdn.lenta.ru/images/2023/01/01/03/202...  1672533004   \n",
              "3  https://icdn.lenta.ru/images/2023/01/01/03/202...  1672533251   \n",
              "4  https://icdn.lenta.ru/images/2023/01/01/03/202...  1672533531   \n",
              "\n",
              "                                                text  \\\n",
              "0  Фото: ЦТАК / Reuters Марина Совина Лидер КНДР ...   \n",
              "1  Фото: Кирилл Шипицин / РИА Новости Марина Сови...   \n",
              "2  Фото: Pixabay Марина Совина Терапевт Ирина Анд...   \n",
              "3  Фото: Илья Наймушин/ РИА Новости Марина Совина...   \n",
              "4  Фото: Komsomolskaya Pravda / Global Look Press...   \n",
              "\n",
              "                                            rightcol  \\\n",
              "0  Ким Чен Ын пообещал нарастить производство яде...   \n",
              "1                 В российском городе пропал ребенок   \n",
              "2     Россиянам рассказали о влиянии алкоголя на сон   \n",
              "3                      Подсчитана пенсия Деда Мороза   \n",
              "4  Климатолог предупредил о возможных погодных ан...   \n",
              "\n",
              "                                             snippet  \n",
              "0  Фото: ЦТАК / Reuters Марина Совина Лидер ... я...  \n",
              "1  Фото: Кирилл Шипицин / РИА Новости ... мальчик...  \n",
              "2  Фото: Pixabay Марина Совина Терапевт ... употр...  \n",
              "3  Фото: Илья Наймушин/ РИА Новости Марина ... Ги...  \n",
              "4  Фото: Komsomolskaya Pravda / Global Look ... К...  "
            ],
            "text/html": [
              "\n",
              "  <div id=\"df-fea3154d-cb54-49a3-b1d3-8a539e931b43\" class=\"colab-df-container\">\n",
              "    <div>\n",
              "<style scoped>\n",
              "    .dataframe tbody tr th:only-of-type {\n",
              "        vertical-align: middle;\n",
              "    }\n",
              "\n",
              "    .dataframe tbody tr th {\n",
              "        vertical-align: top;\n",
              "    }\n",
              "\n",
              "    .dataframe thead th {\n",
              "        text-align: right;\n",
              "    }\n",
              "</style>\n",
              "<table border=\"1\" class=\"dataframe\">\n",
              "  <thead>\n",
              "    <tr style=\"text-align: right;\">\n",
              "      <th></th>\n",
              "      <th>docid</th>\n",
              "      <th>url</th>\n",
              "      <th>title</th>\n",
              "      <th>modified</th>\n",
              "      <th>lastmodtime</th>\n",
              "      <th>type</th>\n",
              "      <th>domain</th>\n",
              "      <th>status</th>\n",
              "      <th>part</th>\n",
              "      <th>bloc</th>\n",
              "      <th>tags</th>\n",
              "      <th>image_url</th>\n",
              "      <th>pubdate</th>\n",
              "      <th>text</th>\n",
              "      <th>rightcol</th>\n",
              "      <th>snippet</th>\n",
              "    </tr>\n",
              "  </thead>\n",
              "  <tbody>\n",
              "    <tr>\n",
              "      <th>0</th>\n",
              "      <td>1363803</td>\n",
              "      <td>https://lenta.ru/news/2023/01/01/exponenta/</td>\n",
              "      <td>Ким Чен Ын пообещал нарастить производство яде...</td>\n",
              "      <td>1672531825</td>\n",
              "      <td>1672531825</td>\n",
              "      <td>1</td>\n",
              "      <td>1</td>\n",
              "      <td>0</td>\n",
              "      <td>0</td>\n",
              "      <td>2</td>\n",
              "      <td>[1]</td>\n",
              "      <td>https://icdn.lenta.ru/images/2023/01/01/03/202...</td>\n",
              "      <td>1672531825</td>\n",
              "      <td>Фото: ЦТАК / Reuters Марина Совина Лидер КНДР ...</td>\n",
              "      <td>Ким Чен Ын пообещал нарастить производство яде...</td>\n",
              "      <td>Фото: ЦТАК / Reuters Марина Совина Лидер ... я...</td>\n",
              "    </tr>\n",
              "    <tr>\n",
              "      <th>1</th>\n",
              "      <td>1363805</td>\n",
              "      <td>https://lenta.ru/news/2023/01/01/yaroslavl/</td>\n",
              "      <td>В российском городе пропал ребенок</td>\n",
              "      <td>1672532081</td>\n",
              "      <td>1672532081</td>\n",
              "      <td>1</td>\n",
              "      <td>1</td>\n",
              "      <td>0</td>\n",
              "      <td>0</td>\n",
              "      <td>1</td>\n",
              "      <td>[4]</td>\n",
              "      <td>https://icdn.lenta.ru/images/2023/01/01/03/202...</td>\n",
              "      <td>1672532081</td>\n",
              "      <td>Фото: Кирилл Шипицин / РИА Новости Марина Сови...</td>\n",
              "      <td>В российском городе пропал ребенок</td>\n",
              "      <td>Фото: Кирилл Шипицин / РИА Новости ... мальчик...</td>\n",
              "    </tr>\n",
              "    <tr>\n",
              "      <th>2</th>\n",
              "      <td>1363807</td>\n",
              "      <td>https://lenta.ru/news/2023/01/01/alco/</td>\n",
              "      <td>Россиянам рассказали о влиянии алкоголя на сон</td>\n",
              "      <td>1672533004</td>\n",
              "      <td>1672533004</td>\n",
              "      <td>1</td>\n",
              "      <td>1</td>\n",
              "      <td>0</td>\n",
              "      <td>0</td>\n",
              "      <td>1</td>\n",
              "      <td>[2]</td>\n",
              "      <td>https://icdn.lenta.ru/images/2023/01/01/03/202...</td>\n",
              "      <td>1672533004</td>\n",
              "      <td>Фото: Pixabay Марина Совина Терапевт Ирина Анд...</td>\n",
              "      <td>Россиянам рассказали о влиянии алкоголя на сон</td>\n",
              "      <td>Фото: Pixabay Марина Совина Терапевт ... употр...</td>\n",
              "    </tr>\n",
              "    <tr>\n",
              "      <th>3</th>\n",
              "      <td>1363808</td>\n",
              "      <td>https://lenta.ru/news/2023/01/01/ded_moroz/</td>\n",
              "      <td>Подсчитана пенсия Деда Мороза</td>\n",
              "      <td>1672533251</td>\n",
              "      <td>1672533252</td>\n",
              "      <td>1</td>\n",
              "      <td>1</td>\n",
              "      <td>0</td>\n",
              "      <td>1</td>\n",
              "      <td>1</td>\n",
              "      <td>[2]</td>\n",
              "      <td>https://icdn.lenta.ru/images/2023/01/01/03/202...</td>\n",
              "      <td>1672533251</td>\n",
              "      <td>Фото: Илья Наймушин/ РИА Новости Марина Совина...</td>\n",
              "      <td>Подсчитана пенсия Деда Мороза</td>\n",
              "      <td>Фото: Илья Наймушин/ РИА Новости Марина ... Ги...</td>\n",
              "    </tr>\n",
              "    <tr>\n",
              "      <th>4</th>\n",
              "      <td>1363806</td>\n",
              "      <td>https://lenta.ru/news/2023/01/01/anomalia_/</td>\n",
              "      <td>Климатолог предупредил о возможных погодных ан...</td>\n",
              "      <td>1672533531</td>\n",
              "      <td>1672533531</td>\n",
              "      <td>1</td>\n",
              "      <td>1</td>\n",
              "      <td>0</td>\n",
              "      <td>0</td>\n",
              "      <td>12</td>\n",
              "      <td>[281]</td>\n",
              "      <td>https://icdn.lenta.ru/images/2023/01/01/03/202...</td>\n",
              "      <td>1672533531</td>\n",
              "      <td>Фото: Komsomolskaya Pravda / Global Look Press...</td>\n",
              "      <td>Климатолог предупредил о возможных погодных ан...</td>\n",
              "      <td>Фото: Komsomolskaya Pravda / Global Look ... К...</td>\n",
              "    </tr>\n",
              "  </tbody>\n",
              "</table>\n",
              "</div>\n",
              "    <div class=\"colab-df-buttons\">\n",
              "\n",
              "  <div class=\"colab-df-container\">\n",
              "    <button class=\"colab-df-convert\" onclick=\"convertToInteractive('df-fea3154d-cb54-49a3-b1d3-8a539e931b43')\"\n",
              "            title=\"Convert this dataframe to an interactive table.\"\n",
              "            style=\"display:none;\">\n",
              "\n",
              "  <svg xmlns=\"http://www.w3.org/2000/svg\" height=\"24px\" viewBox=\"0 -960 960 960\">\n",
              "    <path d=\"M120-120v-720h720v720H120Zm60-500h600v-160H180v160Zm220 220h160v-160H400v160Zm0 220h160v-160H400v160ZM180-400h160v-160H180v160Zm440 0h160v-160H620v160ZM180-180h160v-160H180v160Zm440 0h160v-160H620v160Z\"/>\n",
              "  </svg>\n",
              "    </button>\n",
              "\n",
              "  <style>\n",
              "    .colab-df-container {\n",
              "      display:flex;\n",
              "      gap: 12px;\n",
              "    }\n",
              "\n",
              "    .colab-df-convert {\n",
              "      background-color: #E8F0FE;\n",
              "      border: none;\n",
              "      border-radius: 50%;\n",
              "      cursor: pointer;\n",
              "      display: none;\n",
              "      fill: #1967D2;\n",
              "      height: 32px;\n",
              "      padding: 0 0 0 0;\n",
              "      width: 32px;\n",
              "    }\n",
              "\n",
              "    .colab-df-convert:hover {\n",
              "      background-color: #E2EBFA;\n",
              "      box-shadow: 0px 1px 2px rgba(60, 64, 67, 0.3), 0px 1px 3px 1px rgba(60, 64, 67, 0.15);\n",
              "      fill: #174EA6;\n",
              "    }\n",
              "\n",
              "    .colab-df-buttons div {\n",
              "      margin-bottom: 4px;\n",
              "    }\n",
              "\n",
              "    [theme=dark] .colab-df-convert {\n",
              "      background-color: #3B4455;\n",
              "      fill: #D2E3FC;\n",
              "    }\n",
              "\n",
              "    [theme=dark] .colab-df-convert:hover {\n",
              "      background-color: #434B5C;\n",
              "      box-shadow: 0px 1px 3px 1px rgba(0, 0, 0, 0.15);\n",
              "      filter: drop-shadow(0px 1px 2px rgba(0, 0, 0, 0.3));\n",
              "      fill: #FFFFFF;\n",
              "    }\n",
              "  </style>\n",
              "\n",
              "    <script>\n",
              "      const buttonEl =\n",
              "        document.querySelector('#df-fea3154d-cb54-49a3-b1d3-8a539e931b43 button.colab-df-convert');\n",
              "      buttonEl.style.display =\n",
              "        google.colab.kernel.accessAllowed ? 'block' : 'none';\n",
              "\n",
              "      async function convertToInteractive(key) {\n",
              "        const element = document.querySelector('#df-fea3154d-cb54-49a3-b1d3-8a539e931b43');\n",
              "        const dataTable =\n",
              "          await google.colab.kernel.invokeFunction('convertToInteractive',\n",
              "                                                    [key], {});\n",
              "        if (!dataTable) return;\n",
              "\n",
              "        const docLinkHtml = 'Like what you see? Visit the ' +\n",
              "          '<a target=\"_blank\" href=https://colab.research.google.com/notebooks/data_table.ipynb>data table notebook</a>'\n",
              "          + ' to learn more about interactive tables.';\n",
              "        element.innerHTML = '';\n",
              "        dataTable['output_type'] = 'display_data';\n",
              "        await google.colab.output.renderOutput(dataTable, element);\n",
              "        const docLink = document.createElement('div');\n",
              "        docLink.innerHTML = docLinkHtml;\n",
              "        element.appendChild(docLink);\n",
              "      }\n",
              "    </script>\n",
              "  </div>\n",
              "\n",
              "\n",
              "<div id=\"df-4025eaef-ed49-467d-9105-4065dde4251e\">\n",
              "  <button class=\"colab-df-quickchart\" onclick=\"quickchart('df-4025eaef-ed49-467d-9105-4065dde4251e')\"\n",
              "            title=\"Suggest charts\"\n",
              "            style=\"display:none;\">\n",
              "\n",
              "<svg xmlns=\"http://www.w3.org/2000/svg\" height=\"24px\"viewBox=\"0 0 24 24\"\n",
              "     width=\"24px\">\n",
              "    <g>\n",
              "        <path d=\"M19 3H5c-1.1 0-2 .9-2 2v14c0 1.1.9 2 2 2h14c1.1 0 2-.9 2-2V5c0-1.1-.9-2-2-2zM9 17H7v-7h2v7zm4 0h-2V7h2v10zm4 0h-2v-4h2v4z\"/>\n",
              "    </g>\n",
              "</svg>\n",
              "  </button>\n",
              "\n",
              "<style>\n",
              "  .colab-df-quickchart {\n",
              "      --bg-color: #E8F0FE;\n",
              "      --fill-color: #1967D2;\n",
              "      --hover-bg-color: #E2EBFA;\n",
              "      --hover-fill-color: #174EA6;\n",
              "      --disabled-fill-color: #AAA;\n",
              "      --disabled-bg-color: #DDD;\n",
              "  }\n",
              "\n",
              "  [theme=dark] .colab-df-quickchart {\n",
              "      --bg-color: #3B4455;\n",
              "      --fill-color: #D2E3FC;\n",
              "      --hover-bg-color: #434B5C;\n",
              "      --hover-fill-color: #FFFFFF;\n",
              "      --disabled-bg-color: #3B4455;\n",
              "      --disabled-fill-color: #666;\n",
              "  }\n",
              "\n",
              "  .colab-df-quickchart {\n",
              "    background-color: var(--bg-color);\n",
              "    border: none;\n",
              "    border-radius: 50%;\n",
              "    cursor: pointer;\n",
              "    display: none;\n",
              "    fill: var(--fill-color);\n",
              "    height: 32px;\n",
              "    padding: 0;\n",
              "    width: 32px;\n",
              "  }\n",
              "\n",
              "  .colab-df-quickchart:hover {\n",
              "    background-color: var(--hover-bg-color);\n",
              "    box-shadow: 0 1px 2px rgba(60, 64, 67, 0.3), 0 1px 3px 1px rgba(60, 64, 67, 0.15);\n",
              "    fill: var(--button-hover-fill-color);\n",
              "  }\n",
              "\n",
              "  .colab-df-quickchart-complete:disabled,\n",
              "  .colab-df-quickchart-complete:disabled:hover {\n",
              "    background-color: var(--disabled-bg-color);\n",
              "    fill: var(--disabled-fill-color);\n",
              "    box-shadow: none;\n",
              "  }\n",
              "\n",
              "  .colab-df-spinner {\n",
              "    border: 2px solid var(--fill-color);\n",
              "    border-color: transparent;\n",
              "    border-bottom-color: var(--fill-color);\n",
              "    animation:\n",
              "      spin 1s steps(1) infinite;\n",
              "  }\n",
              "\n",
              "  @keyframes spin {\n",
              "    0% {\n",
              "      border-color: transparent;\n",
              "      border-bottom-color: var(--fill-color);\n",
              "      border-left-color: var(--fill-color);\n",
              "    }\n",
              "    20% {\n",
              "      border-color: transparent;\n",
              "      border-left-color: var(--fill-color);\n",
              "      border-top-color: var(--fill-color);\n",
              "    }\n",
              "    30% {\n",
              "      border-color: transparent;\n",
              "      border-left-color: var(--fill-color);\n",
              "      border-top-color: var(--fill-color);\n",
              "      border-right-color: var(--fill-color);\n",
              "    }\n",
              "    40% {\n",
              "      border-color: transparent;\n",
              "      border-right-color: var(--fill-color);\n",
              "      border-top-color: var(--fill-color);\n",
              "    }\n",
              "    60% {\n",
              "      border-color: transparent;\n",
              "      border-right-color: var(--fill-color);\n",
              "    }\n",
              "    80% {\n",
              "      border-color: transparent;\n",
              "      border-right-color: var(--fill-color);\n",
              "      border-bottom-color: var(--fill-color);\n",
              "    }\n",
              "    90% {\n",
              "      border-color: transparent;\n",
              "      border-bottom-color: var(--fill-color);\n",
              "    }\n",
              "  }\n",
              "</style>\n",
              "\n",
              "  <script>\n",
              "    async function quickchart(key) {\n",
              "      const quickchartButtonEl =\n",
              "        document.querySelector('#' + key + ' button');\n",
              "      quickchartButtonEl.disabled = true;  // To prevent multiple clicks.\n",
              "      quickchartButtonEl.classList.add('colab-df-spinner');\n",
              "      try {\n",
              "        const charts = await google.colab.kernel.invokeFunction(\n",
              "            'suggestCharts', [key], {});\n",
              "      } catch (error) {\n",
              "        console.error('Error during call to suggestCharts:', error);\n",
              "      }\n",
              "      quickchartButtonEl.classList.remove('colab-df-spinner');\n",
              "      quickchartButtonEl.classList.add('colab-df-quickchart-complete');\n",
              "    }\n",
              "    (() => {\n",
              "      let quickchartButtonEl =\n",
              "        document.querySelector('#df-4025eaef-ed49-467d-9105-4065dde4251e button');\n",
              "      quickchartButtonEl.style.display =\n",
              "        google.colab.kernel.accessAllowed ? 'block' : 'none';\n",
              "    })();\n",
              "  </script>\n",
              "</div>\n",
              "    </div>\n",
              "  </div>\n"
            ]
          },
          "metadata": {},
          "execution_count": 30
        }
      ]
    },
    {
      "cell_type": "code",
      "source": [
        "tbl.to_csv(\"Lenta_sample.csv\", index=False)"
      ],
      "metadata": {
        "id": "4dJ5S2Zt8QdV"
      },
      "execution_count": null,
      "outputs": []
    },
    {
      "cell_type": "code",
      "source": [
        "# tbl = pd.read_csv(\"Lenta_sample.csv\")"
      ],
      "metadata": {
        "id": "z8BUtOQy3F3o"
      },
      "execution_count": null,
      "outputs": []
    },
    {
      "cell_type": "code",
      "source": [
        "tbl.shape"
      ],
      "metadata": {
        "colab": {
          "base_uri": "https://localhost:8080/"
        },
        "id": "82IBfolnq6B2",
        "outputId": "36c11120-c235-405b-c0c7-14a3dca3d167"
      },
      "execution_count": null,
      "outputs": [
        {
          "output_type": "execute_result",
          "data": {
            "text/plain": [
              "(10000, 16)"
            ]
          },
          "metadata": {},
          "execution_count": 32
        }
      ]
    },
    {
      "cell_type": "code",
      "source": [
        "tbl['bloc'].value_counts(normalize=True)"
      ],
      "metadata": {
        "colab": {
          "base_uri": "https://localhost:8080/"
        },
        "id": "QLznYABOrlPd",
        "outputId": "4acd82f3-9286-4952-d03c-d130bfc0348d"
      },
      "execution_count": null,
      "outputs": [
        {
          "output_type": "execute_result",
          "data": {
            "text/plain": [
              "1     0.1891\n",
              "2     0.1833\n",
              "3     0.1083\n",
              "4     0.0858\n",
              "8     0.0687\n",
              "37    0.0628\n",
              "5     0.0449\n",
              "12    0.0377\n",
              "7     0.0366\n",
              "47    0.0365\n",
              "6     0.0332\n",
              "48    0.0296\n",
              "87    0.0280\n",
              "9     0.0240\n",
              "0     0.0153\n",
              "86    0.0124\n",
              "49    0.0036\n",
              "11    0.0002\n",
              "Name: bloc, dtype: float64"
            ]
          },
          "metadata": {},
          "execution_count": 33
        }
      ]
    },
    {
      "cell_type": "markdown",
      "source": [
        "Найдем соответствие между кодом блока, его названием и кодом в соревновании:\n",
        "\n",
        "* 1 - Россия - 0\n",
        "* 37 - Силовые структуры - 2\n",
        "* 3 - Бывший СССР - 3\n",
        "* 4 - Экономика - 1\n",
        "* 5 - Наука и техника - 8\n",
        "* 8 - Спорт - 4\n",
        "* 48 - Туризм - 7\n",
        "* 87 - Здоровье - 5"
      ],
      "metadata": {
        "id": "WtKnmv28dn4v"
      }
    },
    {
      "cell_type": "code",
      "source": [
        "tbl[tbl.bloc == 3].iloc[0]"
      ],
      "metadata": {
        "colab": {
          "base_uri": "https://localhost:8080/"
        },
        "id": "aPIO51EY3pqW",
        "outputId": "e67d7a76-c0c4-4a06-ab56-0da72c1072db"
      },
      "execution_count": null,
      "outputs": [
        {
          "output_type": "execute_result",
          "data": {
            "text/plain": [
              "docid                                                    1363858\n",
              "url                       https://lenta.ru/news/2023/01/01/kule/\n",
              "title          На Украине заявили о поражении объекта инфраст...\n",
              "modified                                              1672557480\n",
              "lastmodtime                                           1672558031\n",
              "type                                                           1\n",
              "domain                                                         1\n",
              "status                                                         0\n",
              "part                                                           0\n",
              "bloc                                                           3\n",
              "tags                                                        [55]\n",
              "image_url      https://icdn.lenta.ru/images/2023/01/01/10/202...\n",
              "pubdate                                               1672557480\n",
              "text           Фото: Gleb Garanich / Reuters Варвара Кошечкин...\n",
              "rightcol       На Украине заявили о поражении объекта инфраст...\n",
              "snippet        Фото: Gleb Garanich / Reuters Варвара ..., был...\n",
              "Name: 57, dtype: object"
            ]
          },
          "metadata": {},
          "execution_count": 35
        }
      ]
    },
    {
      "cell_type": "code",
      "source": [
        "tbl = tbl[tbl.bloc.isin([1, 37, 3, 4, 5, 8, 48, 87])]\n",
        "\n",
        "TagsMap = {1 : 0, 3 : 3, 4 : 1, 5 : 8, 8 : 4, 37 : 2, 48 : 7, 87 : 5}\n",
        "\n",
        "tbl['topic'] = tbl['bloc'].map(TagsMap)"
      ],
      "metadata": {
        "colab": {
          "base_uri": "https://localhost:8080/"
        },
        "id": "OJ8gKZzfyy5f",
        "outputId": "e2a211da-3010-41fe-ea2b-59e5e803d617"
      },
      "execution_count": null,
      "outputs": [
        {
          "output_type": "stream",
          "name": "stderr",
          "text": [
            "<ipython-input-36-5f5bf2ec18e9>:5: SettingWithCopyWarning: \n",
            "A value is trying to be set on a copy of a slice from a DataFrame.\n",
            "Try using .loc[row_indexer,col_indexer] = value instead\n",
            "\n",
            "See the caveats in the documentation: https://pandas.pydata.org/pandas-docs/stable/user_guide/indexing.html#returning-a-view-versus-a-copy\n",
            "  tbl['topic'] = tbl['bloc'].map(TagsMap)\n"
          ]
        }
      ]
    },
    {
      "cell_type": "code",
      "source": [
        "tbl.shape"
      ],
      "metadata": {
        "colab": {
          "base_uri": "https://localhost:8080/"
        },
        "id": "QwrqbV2ErxkV",
        "outputId": "84422e4e-7946-4928-945d-2e482a9e23c1"
      },
      "execution_count": null,
      "outputs": [
        {
          "output_type": "execute_result",
          "data": {
            "text/plain": [
              "(6172, 17)"
            ]
          },
          "metadata": {},
          "execution_count": 37
        }
      ]
    },
    {
      "cell_type": "code",
      "source": [
        "tbl['topic'].value_counts(normalize=True) # можно сверить с распределением меток классов в соревновании"
      ],
      "metadata": {
        "colab": {
          "base_uri": "https://localhost:8080/"
        },
        "id": "91u_bGP8dJMR",
        "outputId": "e1f9c5a6-8263-43b0-964c-75d0ce7fb79c"
      },
      "execution_count": null,
      "outputs": [
        {
          "output_type": "execute_result",
          "data": {
            "text/plain": [
              "0    0.306384\n",
              "3    0.175470\n",
              "1    0.139015\n",
              "4    0.111309\n",
              "2    0.101750\n",
              "8    0.072748\n",
              "7    0.047959\n",
              "5    0.045366\n",
              "Name: topic, dtype: float64"
            ]
          },
          "metadata": {},
          "execution_count": 38
        }
      ]
    },
    {
      "cell_type": "markdown",
      "metadata": {
        "id": "Koh_nTAAT3O4"
      },
      "source": [
        "## 2. Машинное обучение"
      ]
    },
    {
      "cell_type": "markdown",
      "source": [
        "Загружаем данные и обучаем модель на разбиении трейн-тест"
      ],
      "metadata": {
        "id": "fbnd_-vt9fiM"
      }
    },
    {
      "cell_type": "code",
      "source": [
        "tbl_new = tbl[~tbl.text.isna()]\n",
        "\n",
        "print(len(tbl), len(tbl_new))"
      ],
      "metadata": {
        "colab": {
          "base_uri": "https://localhost:8080/"
        },
        "id": "v6B0NUAm1YWv",
        "outputId": "6b670e52-ae82-410d-a91d-bfbad4ce04f7"
      },
      "execution_count": null,
      "outputs": [
        {
          "output_type": "stream",
          "name": "stdout",
          "text": [
            "6172 6018\n"
          ]
        }
      ]
    },
    {
      "cell_type": "code",
      "execution_count": null,
      "metadata": {
        "colab": {
          "base_uri": "https://localhost:8080/"
        },
        "id": "sNgTnO9FUbp9",
        "outputId": "e6b5fcd8-59a0-4c76-de1e-2c7eba3ea631"
      },
      "outputs": [
        {
          "output_type": "execute_result",
          "data": {
            "text/plain": [
              "(6018, 1)"
            ]
          },
          "metadata": {},
          "execution_count": 40
        }
      ],
      "source": [
        "X = tbl_new[['text']]\n",
        "y = tbl_new['topic']\n",
        "\n",
        "X.shape"
      ]
    },
    {
      "cell_type": "code",
      "source": [
        "# использовать \"вероятностные модели\"\n",
        "\n",
        "# class_weight = \"balanced\"\n",
        "\n",
        "# в обучающих данных взять поровну новостей каждого класса"
      ],
      "metadata": {
        "id": "eD_hDUqQEeYw"
      },
      "execution_count": null,
      "outputs": []
    },
    {
      "cell_type": "code",
      "execution_count": null,
      "metadata": {
        "id": "C67p6HUpUVK1"
      },
      "outputs": [],
      "source": [
        "from sklearn.model_selection import train_test_split\n",
        "\n",
        "X_train, X_test, y_train, y_test = train_test_split(X, y, test_size=0.25, random_state=42)"
      ]
    },
    {
      "cell_type": "code",
      "source": [
        "X_train.shape, X_test.shape"
      ],
      "metadata": {
        "colab": {
          "base_uri": "https://localhost:8080/"
        },
        "id": "wgBMl9ub07GR",
        "outputId": "e5edebd5-6117-4bc2-e950-c8ad95463184"
      },
      "execution_count": null,
      "outputs": [
        {
          "output_type": "execute_result",
          "data": {
            "text/plain": [
              "((4513, 1), (1505, 1))"
            ]
          },
          "metadata": {},
          "execution_count": 42
        }
      ]
    },
    {
      "cell_type": "code",
      "execution_count": null,
      "metadata": {
        "id": "dz565IlqUF0l",
        "colab": {
          "base_uri": "https://localhost:8080/"
        },
        "outputId": "0e9eacc5-1446-48a2-cd9f-cec074a2633e"
      },
      "outputs": [
        {
          "output_type": "stream",
          "name": "stdout",
          "text": [
            "(4513, 83231)\n",
            "              precision    recall  f1-score   support\n",
            "\n",
            "           0       0.83      0.94      0.88       472\n",
            "           1       0.95      0.92      0.93       209\n",
            "           2       0.93      0.95      0.94       151\n",
            "           3       0.91      0.85      0.87       271\n",
            "           4       0.99      0.99      0.99       137\n",
            "           5       1.00      0.86      0.93        66\n",
            "           7       0.98      0.86      0.92        73\n",
            "           8       0.96      0.81      0.88       126\n",
            "\n",
            "    accuracy                           0.91      1505\n",
            "   macro avg       0.94      0.90      0.92      1505\n",
            "weighted avg       0.91      0.91      0.91      1505\n",
            "\n"
          ]
        }
      ],
      "source": [
        "from sklearn.feature_extraction.text import CountVectorizer\n",
        "from sklearn.preprocessing import MaxAbsScaler\n",
        "from sklearn.linear_model import LogisticRegression\n",
        "from sklearn.metrics import classification_report\n",
        "\n",
        "vec = CountVectorizer() # подбор гиперпараметров очень помогает\n",
        "vec.fit(X_train['text'])\n",
        "\n",
        "bow = vec.transform(X_train['text'])  # bow — bag of words (мешок слов)\n",
        "bow_test = vec.transform(X_test['text'])\n",
        "\n",
        "print(bow.shape)\n",
        "\n",
        "scaler = MaxAbsScaler()\n",
        "bow = scaler.fit_transform(bow)\n",
        "bow_test = scaler.transform(bow_test)\n",
        "\n",
        "clf = LogisticRegression(max_iter=200, random_state=42)\n",
        "clf.fit(bow, y_train)\n",
        "pred = clf.predict(bow_test)\n",
        "\n",
        "print(classification_report(y_test, pred))"
      ]
    },
    {
      "cell_type": "markdown",
      "source": [
        "Загружаем тестовые данные, обучаем итоговую модель и делаем прогноз."
      ],
      "metadata": {
        "id": "IcQNOxb_9Gzm"
      }
    },
    {
      "cell_type": "code",
      "source": [
        "Test = pd.read_csv(\"test_news.csv\")\n",
        "Test"
      ],
      "metadata": {
        "colab": {
          "base_uri": "https://localhost:8080/",
          "height": 419
        },
        "id": "cAIkScdK12Iy",
        "outputId": "1a91eb3d-cb3c-4657-a544-c755608c31e2"
      },
      "execution_count": null,
      "outputs": [
        {
          "output_type": "execute_result",
          "data": {
            "text/plain": [
              "                                                 content\n",
              "0      Фото: «Фонтанка.ру»ПоделитьсяЭкс-министру обор...\n",
              "1      В начале февраля 2023 года в Пушкинском районе...\n",
              "2      Фото: Andy Bao / Getty Images Анастасия Борисо...\n",
              "3      Если вы хотели, но так и не съездили на море л...\n",
              "4      Сергей Пиняев Фото: Алексей Филиппов / РИА Нов...\n",
              "...                                                  ...\n",
              "26270  Фото: РИА Новости Алевтина Запольская Главное ...\n",
              "26271  Вадим Гутцайт Фото: Sergei CHUZAVKOV / Europea...\n",
              "26272  Фото: Олег Харсеев / Коммерсантъ Александр Кур...\n",
              "26273  Владимир Зеленский Фото: Yves Herman / Reuters...\n",
              "26274  Фото: President of the Republic of Azerbaijan ...\n",
              "\n",
              "[26275 rows x 1 columns]"
            ],
            "text/html": [
              "\n",
              "  <div id=\"df-d9badf4d-37db-4bba-bb17-c1d315876a10\" class=\"colab-df-container\">\n",
              "    <div>\n",
              "<style scoped>\n",
              "    .dataframe tbody tr th:only-of-type {\n",
              "        vertical-align: middle;\n",
              "    }\n",
              "\n",
              "    .dataframe tbody tr th {\n",
              "        vertical-align: top;\n",
              "    }\n",
              "\n",
              "    .dataframe thead th {\n",
              "        text-align: right;\n",
              "    }\n",
              "</style>\n",
              "<table border=\"1\" class=\"dataframe\">\n",
              "  <thead>\n",
              "    <tr style=\"text-align: right;\">\n",
              "      <th></th>\n",
              "      <th>content</th>\n",
              "    </tr>\n",
              "  </thead>\n",
              "  <tbody>\n",
              "    <tr>\n",
              "      <th>0</th>\n",
              "      <td>Фото: «Фонтанка.ру»ПоделитьсяЭкс-министру обор...</td>\n",
              "    </tr>\n",
              "    <tr>\n",
              "      <th>1</th>\n",
              "      <td>В начале февраля 2023 года в Пушкинском районе...</td>\n",
              "    </tr>\n",
              "    <tr>\n",
              "      <th>2</th>\n",
              "      <td>Фото: Andy Bao / Getty Images Анастасия Борисо...</td>\n",
              "    </tr>\n",
              "    <tr>\n",
              "      <th>3</th>\n",
              "      <td>Если вы хотели, но так и не съездили на море л...</td>\n",
              "    </tr>\n",
              "    <tr>\n",
              "      <th>4</th>\n",
              "      <td>Сергей Пиняев Фото: Алексей Филиппов / РИА Нов...</td>\n",
              "    </tr>\n",
              "    <tr>\n",
              "      <th>...</th>\n",
              "      <td>...</td>\n",
              "    </tr>\n",
              "    <tr>\n",
              "      <th>26270</th>\n",
              "      <td>Фото: РИА Новости Алевтина Запольская Главное ...</td>\n",
              "    </tr>\n",
              "    <tr>\n",
              "      <th>26271</th>\n",
              "      <td>Вадим Гутцайт Фото: Sergei CHUZAVKOV / Europea...</td>\n",
              "    </tr>\n",
              "    <tr>\n",
              "      <th>26272</th>\n",
              "      <td>Фото: Олег Харсеев / Коммерсантъ Александр Кур...</td>\n",
              "    </tr>\n",
              "    <tr>\n",
              "      <th>26273</th>\n",
              "      <td>Владимир Зеленский Фото: Yves Herman / Reuters...</td>\n",
              "    </tr>\n",
              "    <tr>\n",
              "      <th>26274</th>\n",
              "      <td>Фото: President of the Republic of Azerbaijan ...</td>\n",
              "    </tr>\n",
              "  </tbody>\n",
              "</table>\n",
              "<p>26275 rows × 1 columns</p>\n",
              "</div>\n",
              "    <div class=\"colab-df-buttons\">\n",
              "\n",
              "  <div class=\"colab-df-container\">\n",
              "    <button class=\"colab-df-convert\" onclick=\"convertToInteractive('df-d9badf4d-37db-4bba-bb17-c1d315876a10')\"\n",
              "            title=\"Convert this dataframe to an interactive table.\"\n",
              "            style=\"display:none;\">\n",
              "\n",
              "  <svg xmlns=\"http://www.w3.org/2000/svg\" height=\"24px\" viewBox=\"0 -960 960 960\">\n",
              "    <path d=\"M120-120v-720h720v720H120Zm60-500h600v-160H180v160Zm220 220h160v-160H400v160Zm0 220h160v-160H400v160ZM180-400h160v-160H180v160Zm440 0h160v-160H620v160ZM180-180h160v-160H180v160Zm440 0h160v-160H620v160Z\"/>\n",
              "  </svg>\n",
              "    </button>\n",
              "\n",
              "  <style>\n",
              "    .colab-df-container {\n",
              "      display:flex;\n",
              "      gap: 12px;\n",
              "    }\n",
              "\n",
              "    .colab-df-convert {\n",
              "      background-color: #E8F0FE;\n",
              "      border: none;\n",
              "      border-radius: 50%;\n",
              "      cursor: pointer;\n",
              "      display: none;\n",
              "      fill: #1967D2;\n",
              "      height: 32px;\n",
              "      padding: 0 0 0 0;\n",
              "      width: 32px;\n",
              "    }\n",
              "\n",
              "    .colab-df-convert:hover {\n",
              "      background-color: #E2EBFA;\n",
              "      box-shadow: 0px 1px 2px rgba(60, 64, 67, 0.3), 0px 1px 3px 1px rgba(60, 64, 67, 0.15);\n",
              "      fill: #174EA6;\n",
              "    }\n",
              "\n",
              "    .colab-df-buttons div {\n",
              "      margin-bottom: 4px;\n",
              "    }\n",
              "\n",
              "    [theme=dark] .colab-df-convert {\n",
              "      background-color: #3B4455;\n",
              "      fill: #D2E3FC;\n",
              "    }\n",
              "\n",
              "    [theme=dark] .colab-df-convert:hover {\n",
              "      background-color: #434B5C;\n",
              "      box-shadow: 0px 1px 3px 1px rgba(0, 0, 0, 0.15);\n",
              "      filter: drop-shadow(0px 1px 2px rgba(0, 0, 0, 0.3));\n",
              "      fill: #FFFFFF;\n",
              "    }\n",
              "  </style>\n",
              "\n",
              "    <script>\n",
              "      const buttonEl =\n",
              "        document.querySelector('#df-d9badf4d-37db-4bba-bb17-c1d315876a10 button.colab-df-convert');\n",
              "      buttonEl.style.display =\n",
              "        google.colab.kernel.accessAllowed ? 'block' : 'none';\n",
              "\n",
              "      async function convertToInteractive(key) {\n",
              "        const element = document.querySelector('#df-d9badf4d-37db-4bba-bb17-c1d315876a10');\n",
              "        const dataTable =\n",
              "          await google.colab.kernel.invokeFunction('convertToInteractive',\n",
              "                                                    [key], {});\n",
              "        if (!dataTable) return;\n",
              "\n",
              "        const docLinkHtml = 'Like what you see? Visit the ' +\n",
              "          '<a target=\"_blank\" href=https://colab.research.google.com/notebooks/data_table.ipynb>data table notebook</a>'\n",
              "          + ' to learn more about interactive tables.';\n",
              "        element.innerHTML = '';\n",
              "        dataTable['output_type'] = 'display_data';\n",
              "        await google.colab.output.renderOutput(dataTable, element);\n",
              "        const docLink = document.createElement('div');\n",
              "        docLink.innerHTML = docLinkHtml;\n",
              "        element.appendChild(docLink);\n",
              "      }\n",
              "    </script>\n",
              "  </div>\n",
              "\n",
              "\n",
              "<div id=\"df-a53bad8c-c31b-4eae-a659-70826692eb46\">\n",
              "  <button class=\"colab-df-quickchart\" onclick=\"quickchart('df-a53bad8c-c31b-4eae-a659-70826692eb46')\"\n",
              "            title=\"Suggest charts\"\n",
              "            style=\"display:none;\">\n",
              "\n",
              "<svg xmlns=\"http://www.w3.org/2000/svg\" height=\"24px\"viewBox=\"0 0 24 24\"\n",
              "     width=\"24px\">\n",
              "    <g>\n",
              "        <path d=\"M19 3H5c-1.1 0-2 .9-2 2v14c0 1.1.9 2 2 2h14c1.1 0 2-.9 2-2V5c0-1.1-.9-2-2-2zM9 17H7v-7h2v7zm4 0h-2V7h2v10zm4 0h-2v-4h2v4z\"/>\n",
              "    </g>\n",
              "</svg>\n",
              "  </button>\n",
              "\n",
              "<style>\n",
              "  .colab-df-quickchart {\n",
              "      --bg-color: #E8F0FE;\n",
              "      --fill-color: #1967D2;\n",
              "      --hover-bg-color: #E2EBFA;\n",
              "      --hover-fill-color: #174EA6;\n",
              "      --disabled-fill-color: #AAA;\n",
              "      --disabled-bg-color: #DDD;\n",
              "  }\n",
              "\n",
              "  [theme=dark] .colab-df-quickchart {\n",
              "      --bg-color: #3B4455;\n",
              "      --fill-color: #D2E3FC;\n",
              "      --hover-bg-color: #434B5C;\n",
              "      --hover-fill-color: #FFFFFF;\n",
              "      --disabled-bg-color: #3B4455;\n",
              "      --disabled-fill-color: #666;\n",
              "  }\n",
              "\n",
              "  .colab-df-quickchart {\n",
              "    background-color: var(--bg-color);\n",
              "    border: none;\n",
              "    border-radius: 50%;\n",
              "    cursor: pointer;\n",
              "    display: none;\n",
              "    fill: var(--fill-color);\n",
              "    height: 32px;\n",
              "    padding: 0;\n",
              "    width: 32px;\n",
              "  }\n",
              "\n",
              "  .colab-df-quickchart:hover {\n",
              "    background-color: var(--hover-bg-color);\n",
              "    box-shadow: 0 1px 2px rgba(60, 64, 67, 0.3), 0 1px 3px 1px rgba(60, 64, 67, 0.15);\n",
              "    fill: var(--button-hover-fill-color);\n",
              "  }\n",
              "\n",
              "  .colab-df-quickchart-complete:disabled,\n",
              "  .colab-df-quickchart-complete:disabled:hover {\n",
              "    background-color: var(--disabled-bg-color);\n",
              "    fill: var(--disabled-fill-color);\n",
              "    box-shadow: none;\n",
              "  }\n",
              "\n",
              "  .colab-df-spinner {\n",
              "    border: 2px solid var(--fill-color);\n",
              "    border-color: transparent;\n",
              "    border-bottom-color: var(--fill-color);\n",
              "    animation:\n",
              "      spin 1s steps(1) infinite;\n",
              "  }\n",
              "\n",
              "  @keyframes spin {\n",
              "    0% {\n",
              "      border-color: transparent;\n",
              "      border-bottom-color: var(--fill-color);\n",
              "      border-left-color: var(--fill-color);\n",
              "    }\n",
              "    20% {\n",
              "      border-color: transparent;\n",
              "      border-left-color: var(--fill-color);\n",
              "      border-top-color: var(--fill-color);\n",
              "    }\n",
              "    30% {\n",
              "      border-color: transparent;\n",
              "      border-left-color: var(--fill-color);\n",
              "      border-top-color: var(--fill-color);\n",
              "      border-right-color: var(--fill-color);\n",
              "    }\n",
              "    40% {\n",
              "      border-color: transparent;\n",
              "      border-right-color: var(--fill-color);\n",
              "      border-top-color: var(--fill-color);\n",
              "    }\n",
              "    60% {\n",
              "      border-color: transparent;\n",
              "      border-right-color: var(--fill-color);\n",
              "    }\n",
              "    80% {\n",
              "      border-color: transparent;\n",
              "      border-right-color: var(--fill-color);\n",
              "      border-bottom-color: var(--fill-color);\n",
              "    }\n",
              "    90% {\n",
              "      border-color: transparent;\n",
              "      border-bottom-color: var(--fill-color);\n",
              "    }\n",
              "  }\n",
              "</style>\n",
              "\n",
              "  <script>\n",
              "    async function quickchart(key) {\n",
              "      const quickchartButtonEl =\n",
              "        document.querySelector('#' + key + ' button');\n",
              "      quickchartButtonEl.disabled = true;  // To prevent multiple clicks.\n",
              "      quickchartButtonEl.classList.add('colab-df-spinner');\n",
              "      try {\n",
              "        const charts = await google.colab.kernel.invokeFunction(\n",
              "            'suggestCharts', [key], {});\n",
              "      } catch (error) {\n",
              "        console.error('Error during call to suggestCharts:', error);\n",
              "      }\n",
              "      quickchartButtonEl.classList.remove('colab-df-spinner');\n",
              "      quickchartButtonEl.classList.add('colab-df-quickchart-complete');\n",
              "    }\n",
              "    (() => {\n",
              "      let quickchartButtonEl =\n",
              "        document.querySelector('#df-a53bad8c-c31b-4eae-a659-70826692eb46 button');\n",
              "      quickchartButtonEl.style.display =\n",
              "        google.colab.kernel.accessAllowed ? 'block' : 'none';\n",
              "    })();\n",
              "  </script>\n",
              "</div>\n",
              "    </div>\n",
              "  </div>\n"
            ]
          },
          "metadata": {},
          "execution_count": 44
        }
      ]
    },
    {
      "cell_type": "code",
      "source": [
        "from sklearn.feature_extraction.text import CountVectorizer\n",
        "from sklearn.preprocessing import MaxAbsScaler\n",
        "from sklearn.linear_model import LogisticRegression\n",
        "from sklearn.metrics import classification_report\n",
        "\n",
        "vec = CountVectorizer()\n",
        "vec.fit(X['text'])\n",
        "\n",
        "bow = vec.transform(X['text'])  # bow — bag of words (мешок слов)\n",
        "bow_test = vec.transform(Test['content'])\n",
        "\n",
        "scaler = MaxAbsScaler()\n",
        "bow = scaler.fit_transform(bow)\n",
        "bow_test = scaler.transform(bow_test)\n",
        "\n",
        "clf = LogisticRegression(max_iter=200, random_state=42)\n",
        "clf.fit(bow, y)\n",
        "pred = clf.predict(bow_test)"
      ],
      "metadata": {
        "id": "XvsJnWcH1wdX"
      },
      "execution_count": null,
      "outputs": []
    },
    {
      "cell_type": "code",
      "source": [
        "pred[:10], len(pred)"
      ],
      "metadata": {
        "colab": {
          "base_uri": "https://localhost:8080/"
        },
        "id": "Tf6ECdCk2Fpj",
        "outputId": "df6d920a-90f2-4f8a-8cec-67508d7b267d"
      },
      "execution_count": null,
      "outputs": [
        {
          "output_type": "execute_result",
          "data": {
            "text/plain": [
              "(array([0, 0, 4, 0, 4, 3, 2, 3, 0, 3]), 26275)"
            ]
          },
          "metadata": {},
          "execution_count": 46
        }
      ]
    },
    {
      "cell_type": "markdown",
      "source": [
        "Сохраняем прогноз в файл."
      ],
      "metadata": {
        "id": "0UaDcHvO9T6O"
      }
    },
    {
      "cell_type": "code",
      "source": [
        "subm = pd.read_csv(\"base_submission_news.csv\")\n",
        "subm.head()"
      ],
      "metadata": {
        "colab": {
          "base_uri": "https://localhost:8080/",
          "height": 204
        },
        "id": "WqfLq_ID2L8K",
        "outputId": "0034c13a-6816-4250-ade9-679078181ef4"
      },
      "execution_count": null,
      "outputs": [
        {
          "output_type": "execute_result",
          "data": {
            "text/plain": [
              "   topic  index\n",
              "0      0      0\n",
              "1      0      1\n",
              "2      0      2\n",
              "3      0      3\n",
              "4      0      4"
            ],
            "text/html": [
              "\n",
              "  <div id=\"df-8d9ba5e8-546c-40a8-b09c-c043715adfb0\" class=\"colab-df-container\">\n",
              "    <div>\n",
              "<style scoped>\n",
              "    .dataframe tbody tr th:only-of-type {\n",
              "        vertical-align: middle;\n",
              "    }\n",
              "\n",
              "    .dataframe tbody tr th {\n",
              "        vertical-align: top;\n",
              "    }\n",
              "\n",
              "    .dataframe thead th {\n",
              "        text-align: right;\n",
              "    }\n",
              "</style>\n",
              "<table border=\"1\" class=\"dataframe\">\n",
              "  <thead>\n",
              "    <tr style=\"text-align: right;\">\n",
              "      <th></th>\n",
              "      <th>topic</th>\n",
              "      <th>index</th>\n",
              "    </tr>\n",
              "  </thead>\n",
              "  <tbody>\n",
              "    <tr>\n",
              "      <th>0</th>\n",
              "      <td>0</td>\n",
              "      <td>0</td>\n",
              "    </tr>\n",
              "    <tr>\n",
              "      <th>1</th>\n",
              "      <td>0</td>\n",
              "      <td>1</td>\n",
              "    </tr>\n",
              "    <tr>\n",
              "      <th>2</th>\n",
              "      <td>0</td>\n",
              "      <td>2</td>\n",
              "    </tr>\n",
              "    <tr>\n",
              "      <th>3</th>\n",
              "      <td>0</td>\n",
              "      <td>3</td>\n",
              "    </tr>\n",
              "    <tr>\n",
              "      <th>4</th>\n",
              "      <td>0</td>\n",
              "      <td>4</td>\n",
              "    </tr>\n",
              "  </tbody>\n",
              "</table>\n",
              "</div>\n",
              "    <div class=\"colab-df-buttons\">\n",
              "\n",
              "  <div class=\"colab-df-container\">\n",
              "    <button class=\"colab-df-convert\" onclick=\"convertToInteractive('df-8d9ba5e8-546c-40a8-b09c-c043715adfb0')\"\n",
              "            title=\"Convert this dataframe to an interactive table.\"\n",
              "            style=\"display:none;\">\n",
              "\n",
              "  <svg xmlns=\"http://www.w3.org/2000/svg\" height=\"24px\" viewBox=\"0 -960 960 960\">\n",
              "    <path d=\"M120-120v-720h720v720H120Zm60-500h600v-160H180v160Zm220 220h160v-160H400v160Zm0 220h160v-160H400v160ZM180-400h160v-160H180v160Zm440 0h160v-160H620v160ZM180-180h160v-160H180v160Zm440 0h160v-160H620v160Z\"/>\n",
              "  </svg>\n",
              "    </button>\n",
              "\n",
              "  <style>\n",
              "    .colab-df-container {\n",
              "      display:flex;\n",
              "      gap: 12px;\n",
              "    }\n",
              "\n",
              "    .colab-df-convert {\n",
              "      background-color: #E8F0FE;\n",
              "      border: none;\n",
              "      border-radius: 50%;\n",
              "      cursor: pointer;\n",
              "      display: none;\n",
              "      fill: #1967D2;\n",
              "      height: 32px;\n",
              "      padding: 0 0 0 0;\n",
              "      width: 32px;\n",
              "    }\n",
              "\n",
              "    .colab-df-convert:hover {\n",
              "      background-color: #E2EBFA;\n",
              "      box-shadow: 0px 1px 2px rgba(60, 64, 67, 0.3), 0px 1px 3px 1px rgba(60, 64, 67, 0.15);\n",
              "      fill: #174EA6;\n",
              "    }\n",
              "\n",
              "    .colab-df-buttons div {\n",
              "      margin-bottom: 4px;\n",
              "    }\n",
              "\n",
              "    [theme=dark] .colab-df-convert {\n",
              "      background-color: #3B4455;\n",
              "      fill: #D2E3FC;\n",
              "    }\n",
              "\n",
              "    [theme=dark] .colab-df-convert:hover {\n",
              "      background-color: #434B5C;\n",
              "      box-shadow: 0px 1px 3px 1px rgba(0, 0, 0, 0.15);\n",
              "      filter: drop-shadow(0px 1px 2px rgba(0, 0, 0, 0.3));\n",
              "      fill: #FFFFFF;\n",
              "    }\n",
              "  </style>\n",
              "\n",
              "    <script>\n",
              "      const buttonEl =\n",
              "        document.querySelector('#df-8d9ba5e8-546c-40a8-b09c-c043715adfb0 button.colab-df-convert');\n",
              "      buttonEl.style.display =\n",
              "        google.colab.kernel.accessAllowed ? 'block' : 'none';\n",
              "\n",
              "      async function convertToInteractive(key) {\n",
              "        const element = document.querySelector('#df-8d9ba5e8-546c-40a8-b09c-c043715adfb0');\n",
              "        const dataTable =\n",
              "          await google.colab.kernel.invokeFunction('convertToInteractive',\n",
              "                                                    [key], {});\n",
              "        if (!dataTable) return;\n",
              "\n",
              "        const docLinkHtml = 'Like what you see? Visit the ' +\n",
              "          '<a target=\"_blank\" href=https://colab.research.google.com/notebooks/data_table.ipynb>data table notebook</a>'\n",
              "          + ' to learn more about interactive tables.';\n",
              "        element.innerHTML = '';\n",
              "        dataTable['output_type'] = 'display_data';\n",
              "        await google.colab.output.renderOutput(dataTable, element);\n",
              "        const docLink = document.createElement('div');\n",
              "        docLink.innerHTML = docLinkHtml;\n",
              "        element.appendChild(docLink);\n",
              "      }\n",
              "    </script>\n",
              "  </div>\n",
              "\n",
              "\n",
              "<div id=\"df-4702e68b-8fca-462c-be6e-40d691d9c0bd\">\n",
              "  <button class=\"colab-df-quickchart\" onclick=\"quickchart('df-4702e68b-8fca-462c-be6e-40d691d9c0bd')\"\n",
              "            title=\"Suggest charts\"\n",
              "            style=\"display:none;\">\n",
              "\n",
              "<svg xmlns=\"http://www.w3.org/2000/svg\" height=\"24px\"viewBox=\"0 0 24 24\"\n",
              "     width=\"24px\">\n",
              "    <g>\n",
              "        <path d=\"M19 3H5c-1.1 0-2 .9-2 2v14c0 1.1.9 2 2 2h14c1.1 0 2-.9 2-2V5c0-1.1-.9-2-2-2zM9 17H7v-7h2v7zm4 0h-2V7h2v10zm4 0h-2v-4h2v4z\"/>\n",
              "    </g>\n",
              "</svg>\n",
              "  </button>\n",
              "\n",
              "<style>\n",
              "  .colab-df-quickchart {\n",
              "      --bg-color: #E8F0FE;\n",
              "      --fill-color: #1967D2;\n",
              "      --hover-bg-color: #E2EBFA;\n",
              "      --hover-fill-color: #174EA6;\n",
              "      --disabled-fill-color: #AAA;\n",
              "      --disabled-bg-color: #DDD;\n",
              "  }\n",
              "\n",
              "  [theme=dark] .colab-df-quickchart {\n",
              "      --bg-color: #3B4455;\n",
              "      --fill-color: #D2E3FC;\n",
              "      --hover-bg-color: #434B5C;\n",
              "      --hover-fill-color: #FFFFFF;\n",
              "      --disabled-bg-color: #3B4455;\n",
              "      --disabled-fill-color: #666;\n",
              "  }\n",
              "\n",
              "  .colab-df-quickchart {\n",
              "    background-color: var(--bg-color);\n",
              "    border: none;\n",
              "    border-radius: 50%;\n",
              "    cursor: pointer;\n",
              "    display: none;\n",
              "    fill: var(--fill-color);\n",
              "    height: 32px;\n",
              "    padding: 0;\n",
              "    width: 32px;\n",
              "  }\n",
              "\n",
              "  .colab-df-quickchart:hover {\n",
              "    background-color: var(--hover-bg-color);\n",
              "    box-shadow: 0 1px 2px rgba(60, 64, 67, 0.3), 0 1px 3px 1px rgba(60, 64, 67, 0.15);\n",
              "    fill: var(--button-hover-fill-color);\n",
              "  }\n",
              "\n",
              "  .colab-df-quickchart-complete:disabled,\n",
              "  .colab-df-quickchart-complete:disabled:hover {\n",
              "    background-color: var(--disabled-bg-color);\n",
              "    fill: var(--disabled-fill-color);\n",
              "    box-shadow: none;\n",
              "  }\n",
              "\n",
              "  .colab-df-spinner {\n",
              "    border: 2px solid var(--fill-color);\n",
              "    border-color: transparent;\n",
              "    border-bottom-color: var(--fill-color);\n",
              "    animation:\n",
              "      spin 1s steps(1) infinite;\n",
              "  }\n",
              "\n",
              "  @keyframes spin {\n",
              "    0% {\n",
              "      border-color: transparent;\n",
              "      border-bottom-color: var(--fill-color);\n",
              "      border-left-color: var(--fill-color);\n",
              "    }\n",
              "    20% {\n",
              "      border-color: transparent;\n",
              "      border-left-color: var(--fill-color);\n",
              "      border-top-color: var(--fill-color);\n",
              "    }\n",
              "    30% {\n",
              "      border-color: transparent;\n",
              "      border-left-color: var(--fill-color);\n",
              "      border-top-color: var(--fill-color);\n",
              "      border-right-color: var(--fill-color);\n",
              "    }\n",
              "    40% {\n",
              "      border-color: transparent;\n",
              "      border-right-color: var(--fill-color);\n",
              "      border-top-color: var(--fill-color);\n",
              "    }\n",
              "    60% {\n",
              "      border-color: transparent;\n",
              "      border-right-color: var(--fill-color);\n",
              "    }\n",
              "    80% {\n",
              "      border-color: transparent;\n",
              "      border-right-color: var(--fill-color);\n",
              "      border-bottom-color: var(--fill-color);\n",
              "    }\n",
              "    90% {\n",
              "      border-color: transparent;\n",
              "      border-bottom-color: var(--fill-color);\n",
              "    }\n",
              "  }\n",
              "</style>\n",
              "\n",
              "  <script>\n",
              "    async function quickchart(key) {\n",
              "      const quickchartButtonEl =\n",
              "        document.querySelector('#' + key + ' button');\n",
              "      quickchartButtonEl.disabled = true;  // To prevent multiple clicks.\n",
              "      quickchartButtonEl.classList.add('colab-df-spinner');\n",
              "      try {\n",
              "        const charts = await google.colab.kernel.invokeFunction(\n",
              "            'suggestCharts', [key], {});\n",
              "      } catch (error) {\n",
              "        console.error('Error during call to suggestCharts:', error);\n",
              "      }\n",
              "      quickchartButtonEl.classList.remove('colab-df-spinner');\n",
              "      quickchartButtonEl.classList.add('colab-df-quickchart-complete');\n",
              "    }\n",
              "    (() => {\n",
              "      let quickchartButtonEl =\n",
              "        document.querySelector('#df-4702e68b-8fca-462c-be6e-40d691d9c0bd button');\n",
              "      quickchartButtonEl.style.display =\n",
              "        google.colab.kernel.accessAllowed ? 'block' : 'none';\n",
              "    })();\n",
              "  </script>\n",
              "</div>\n",
              "    </div>\n",
              "  </div>\n"
            ]
          },
          "metadata": {},
          "execution_count": 47
        }
      ]
    },
    {
      "cell_type": "code",
      "source": [
        "subm['topic'] = pred\n",
        "\n",
        "subm.to_csv(\"bow_logreg_lenta.csv\", index=False)"
      ],
      "metadata": {
        "id": "O8YEhjhh6-wz"
      },
      "execution_count": null,
      "outputs": []
    },
    {
      "cell_type": "code",
      "source": [
        "subm['topic'].value_counts(normalize=True)"
      ],
      "metadata": {
        "colab": {
          "base_uri": "https://localhost:8080/"
        },
        "id": "5mg8uCru7UG3",
        "outputId": "45351356-1632-4fee-9f32-e0398079d6e4"
      },
      "execution_count": null,
      "outputs": [
        {
          "output_type": "execute_result",
          "data": {
            "text/plain": [
              "0    0.484681\n",
              "1    0.151170\n",
              "3    0.100133\n",
              "4    0.083007\n",
              "2    0.081979\n",
              "8    0.048754\n",
              "7    0.030676\n",
              "5    0.019600\n",
              "Name: topic, dtype: float64"
            ]
          },
          "metadata": {},
          "execution_count": 49
        }
      ]
    },
    {
      "cell_type": "code",
      "source": [],
      "metadata": {
        "id": "AgumV86LDKDH"
      },
      "execution_count": null,
      "outputs": []
    }
  ]
}